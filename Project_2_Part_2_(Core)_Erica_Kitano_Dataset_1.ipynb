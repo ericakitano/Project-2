{
  "nbformat": 4,
  "nbformat_minor": 0,
  "metadata": {
    "colab": {
      "provenance": [],
      "toc_visible": true,
      "authorship_tag": "ABX9TyOYkIqCgp2jxUpN2YEkgLuz",
      "include_colab_link": true
    },
    "kernelspec": {
      "name": "python3",
      "display_name": "Python 3"
    },
    "language_info": {
      "name": "python"
    }
  },
  "cells": [
    {
      "cell_type": "markdown",
      "metadata": {
        "id": "view-in-github",
        "colab_type": "text"
      },
      "source": [
        "<a href=\"https://colab.research.google.com/github/ericakitano/Project-2/blob/main/Project_2_Part_2_(Core)_Erica_Kitano_Dataset_1.ipynb\" target=\"_parent\"><img src=\"https://colab.research.google.com/assets/colab-badge.svg\" alt=\"Open In Colab\"/></a>"
      ]
    },
    {
      "cell_type": "markdown",
      "source": [
        "# **1. Import Libraries**"
      ],
      "metadata": {
        "id": "9qjty7w_JUnY"
      }
    },
    {
      "cell_type": "code",
      "source": [
        "#Import Libraries\n",
        "import pandas as pd"
      ],
      "metadata": {
        "id": "kXdmPO7S3k7e"
      },
      "execution_count": 33,
      "outputs": []
    },
    {
      "cell_type": "markdown",
      "source": [
        "# **2. Load Data**"
      ],
      "metadata": {
        "id": "PHbluINvJXK8"
      }
    },
    {
      "cell_type": "code",
      "source": [
        "from google.colab import drive\n",
        "drive.mount('/content/drive')"
      ],
      "metadata": {
        "colab": {
          "base_uri": "https://localhost:8080/"
        },
        "id": "wZQa0eTL3axB",
        "outputId": "797ffe93-bcb2-4720-d880-09beffff358f"
      },
      "execution_count": 34,
      "outputs": [
        {
          "output_type": "stream",
          "name": "stdout",
          "text": [
            "Drive already mounted at /content/drive; to attempt to forcibly remount, call drive.mount(\"/content/drive\", force_remount=True).\n"
          ]
        }
      ]
    },
    {
      "cell_type": "code",
      "source": [
        "#Load Data\n",
        "filename1 = '/content/drive/MyDrive/Colab Notebooks/Raw Data Files/Project/Project2/healthcare-dataset-stroke-data.csv'\n",
        "df1 = pd.read_csv (filename1)\n",
        "df1.head()"
      ],
      "metadata": {
        "id": "u7nDtbji3m3u",
        "colab": {
          "base_uri": "https://localhost:8080/",
          "height": 305
        },
        "outputId": "cc2ae175-000e-45b4-8d8c-9f6cb58bdd7b"
      },
      "execution_count": 35,
      "outputs": [
        {
          "output_type": "execute_result",
          "data": {
            "text/plain": [
              "      id  gender   age  hypertension  heart_disease ever_married  \\\n",
              "0   9046    Male  67.0             0              1          Yes   \n",
              "1  51676  Female  61.0             0              0          Yes   \n",
              "2  31112    Male  80.0             0              1          Yes   \n",
              "3  60182  Female  49.0             0              0          Yes   \n",
              "4   1665  Female  79.0             1              0          Yes   \n",
              "\n",
              "       work_type Residence_type  avg_glucose_level   bmi   smoking_status  \\\n",
              "0        Private          Urban             228.69  36.6  formerly smoked   \n",
              "1  Self-employed          Rural             202.21   NaN     never smoked   \n",
              "2        Private          Rural             105.92  32.5     never smoked   \n",
              "3        Private          Urban             171.23  34.4           smokes   \n",
              "4  Self-employed          Rural             174.12  24.0     never smoked   \n",
              "\n",
              "   stroke  \n",
              "0       1  \n",
              "1       1  \n",
              "2       1  \n",
              "3       1  \n",
              "4       1  "
            ],
            "text/html": [
              "\n",
              "  <div id=\"df-fb384442-50bf-4875-babe-1e382db81b9c\">\n",
              "    <div class=\"colab-df-container\">\n",
              "      <div>\n",
              "<style scoped>\n",
              "    .dataframe tbody tr th:only-of-type {\n",
              "        vertical-align: middle;\n",
              "    }\n",
              "\n",
              "    .dataframe tbody tr th {\n",
              "        vertical-align: top;\n",
              "    }\n",
              "\n",
              "    .dataframe thead th {\n",
              "        text-align: right;\n",
              "    }\n",
              "</style>\n",
              "<table border=\"1\" class=\"dataframe\">\n",
              "  <thead>\n",
              "    <tr style=\"text-align: right;\">\n",
              "      <th></th>\n",
              "      <th>id</th>\n",
              "      <th>gender</th>\n",
              "      <th>age</th>\n",
              "      <th>hypertension</th>\n",
              "      <th>heart_disease</th>\n",
              "      <th>ever_married</th>\n",
              "      <th>work_type</th>\n",
              "      <th>Residence_type</th>\n",
              "      <th>avg_glucose_level</th>\n",
              "      <th>bmi</th>\n",
              "      <th>smoking_status</th>\n",
              "      <th>stroke</th>\n",
              "    </tr>\n",
              "  </thead>\n",
              "  <tbody>\n",
              "    <tr>\n",
              "      <th>0</th>\n",
              "      <td>9046</td>\n",
              "      <td>Male</td>\n",
              "      <td>67.0</td>\n",
              "      <td>0</td>\n",
              "      <td>1</td>\n",
              "      <td>Yes</td>\n",
              "      <td>Private</td>\n",
              "      <td>Urban</td>\n",
              "      <td>228.69</td>\n",
              "      <td>36.6</td>\n",
              "      <td>formerly smoked</td>\n",
              "      <td>1</td>\n",
              "    </tr>\n",
              "    <tr>\n",
              "      <th>1</th>\n",
              "      <td>51676</td>\n",
              "      <td>Female</td>\n",
              "      <td>61.0</td>\n",
              "      <td>0</td>\n",
              "      <td>0</td>\n",
              "      <td>Yes</td>\n",
              "      <td>Self-employed</td>\n",
              "      <td>Rural</td>\n",
              "      <td>202.21</td>\n",
              "      <td>NaN</td>\n",
              "      <td>never smoked</td>\n",
              "      <td>1</td>\n",
              "    </tr>\n",
              "    <tr>\n",
              "      <th>2</th>\n",
              "      <td>31112</td>\n",
              "      <td>Male</td>\n",
              "      <td>80.0</td>\n",
              "      <td>0</td>\n",
              "      <td>1</td>\n",
              "      <td>Yes</td>\n",
              "      <td>Private</td>\n",
              "      <td>Rural</td>\n",
              "      <td>105.92</td>\n",
              "      <td>32.5</td>\n",
              "      <td>never smoked</td>\n",
              "      <td>1</td>\n",
              "    </tr>\n",
              "    <tr>\n",
              "      <th>3</th>\n",
              "      <td>60182</td>\n",
              "      <td>Female</td>\n",
              "      <td>49.0</td>\n",
              "      <td>0</td>\n",
              "      <td>0</td>\n",
              "      <td>Yes</td>\n",
              "      <td>Private</td>\n",
              "      <td>Urban</td>\n",
              "      <td>171.23</td>\n",
              "      <td>34.4</td>\n",
              "      <td>smokes</td>\n",
              "      <td>1</td>\n",
              "    </tr>\n",
              "    <tr>\n",
              "      <th>4</th>\n",
              "      <td>1665</td>\n",
              "      <td>Female</td>\n",
              "      <td>79.0</td>\n",
              "      <td>1</td>\n",
              "      <td>0</td>\n",
              "      <td>Yes</td>\n",
              "      <td>Self-employed</td>\n",
              "      <td>Rural</td>\n",
              "      <td>174.12</td>\n",
              "      <td>24.0</td>\n",
              "      <td>never smoked</td>\n",
              "      <td>1</td>\n",
              "    </tr>\n",
              "  </tbody>\n",
              "</table>\n",
              "</div>\n",
              "      <button class=\"colab-df-convert\" onclick=\"convertToInteractive('df-fb384442-50bf-4875-babe-1e382db81b9c')\"\n",
              "              title=\"Convert this dataframe to an interactive table.\"\n",
              "              style=\"display:none;\">\n",
              "        \n",
              "  <svg xmlns=\"http://www.w3.org/2000/svg\" height=\"24px\"viewBox=\"0 0 24 24\"\n",
              "       width=\"24px\">\n",
              "    <path d=\"M0 0h24v24H0V0z\" fill=\"none\"/>\n",
              "    <path d=\"M18.56 5.44l.94 2.06.94-2.06 2.06-.94-2.06-.94-.94-2.06-.94 2.06-2.06.94zm-11 1L8.5 8.5l.94-2.06 2.06-.94-2.06-.94L8.5 2.5l-.94 2.06-2.06.94zm10 10l.94 2.06.94-2.06 2.06-.94-2.06-.94-.94-2.06-.94 2.06-2.06.94z\"/><path d=\"M17.41 7.96l-1.37-1.37c-.4-.4-.92-.59-1.43-.59-.52 0-1.04.2-1.43.59L10.3 9.45l-7.72 7.72c-.78.78-.78 2.05 0 2.83L4 21.41c.39.39.9.59 1.41.59.51 0 1.02-.2 1.41-.59l7.78-7.78 2.81-2.81c.8-.78.8-2.07 0-2.86zM5.41 20L4 18.59l7.72-7.72 1.47 1.35L5.41 20z\"/>\n",
              "  </svg>\n",
              "      </button>\n",
              "      \n",
              "  <style>\n",
              "    .colab-df-container {\n",
              "      display:flex;\n",
              "      flex-wrap:wrap;\n",
              "      gap: 12px;\n",
              "    }\n",
              "\n",
              "    .colab-df-convert {\n",
              "      background-color: #E8F0FE;\n",
              "      border: none;\n",
              "      border-radius: 50%;\n",
              "      cursor: pointer;\n",
              "      display: none;\n",
              "      fill: #1967D2;\n",
              "      height: 32px;\n",
              "      padding: 0 0 0 0;\n",
              "      width: 32px;\n",
              "    }\n",
              "\n",
              "    .colab-df-convert:hover {\n",
              "      background-color: #E2EBFA;\n",
              "      box-shadow: 0px 1px 2px rgba(60, 64, 67, 0.3), 0px 1px 3px 1px rgba(60, 64, 67, 0.15);\n",
              "      fill: #174EA6;\n",
              "    }\n",
              "\n",
              "    [theme=dark] .colab-df-convert {\n",
              "      background-color: #3B4455;\n",
              "      fill: #D2E3FC;\n",
              "    }\n",
              "\n",
              "    [theme=dark] .colab-df-convert:hover {\n",
              "      background-color: #434B5C;\n",
              "      box-shadow: 0px 1px 3px 1px rgba(0, 0, 0, 0.15);\n",
              "      filter: drop-shadow(0px 1px 2px rgba(0, 0, 0, 0.3));\n",
              "      fill: #FFFFFF;\n",
              "    }\n",
              "  </style>\n",
              "\n",
              "      <script>\n",
              "        const buttonEl =\n",
              "          document.querySelector('#df-fb384442-50bf-4875-babe-1e382db81b9c button.colab-df-convert');\n",
              "        buttonEl.style.display =\n",
              "          google.colab.kernel.accessAllowed ? 'block' : 'none';\n",
              "\n",
              "        async function convertToInteractive(key) {\n",
              "          const element = document.querySelector('#df-fb384442-50bf-4875-babe-1e382db81b9c');\n",
              "          const dataTable =\n",
              "            await google.colab.kernel.invokeFunction('convertToInteractive',\n",
              "                                                     [key], {});\n",
              "          if (!dataTable) return;\n",
              "\n",
              "          const docLinkHtml = 'Like what you see? Visit the ' +\n",
              "            '<a target=\"_blank\" href=https://colab.research.google.com/notebooks/data_table.ipynb>data table notebook</a>'\n",
              "            + ' to learn more about interactive tables.';\n",
              "          element.innerHTML = '';\n",
              "          dataTable['output_type'] = 'display_data';\n",
              "          await google.colab.output.renderOutput(dataTable, element);\n",
              "          const docLink = document.createElement('div');\n",
              "          docLink.innerHTML = docLinkHtml;\n",
              "          element.appendChild(docLink);\n",
              "        }\n",
              "      </script>\n",
              "    </div>\n",
              "  </div>\n",
              "  "
            ]
          },
          "metadata": {},
          "execution_count": 35
        }
      ]
    },
    {
      "cell_type": "markdown",
      "source": [
        "***\n"
      ],
      "metadata": {
        "id": "jZno_U8bw6n-"
      }
    },
    {
      "cell_type": "markdown",
      "source": [
        "# **3. Inspect & Clean the Data**"
      ],
      "metadata": {
        "id": "oQKlZABAJcvp"
      }
    },
    {
      "cell_type": "code",
      "source": [
        "df1.shape"
      ],
      "metadata": {
        "id": "LZASYR9-3trY",
        "colab": {
          "base_uri": "https://localhost:8080/"
        },
        "outputId": "ba996a1a-6753-485d-fd7a-67a9acf18245"
      },
      "execution_count": 36,
      "outputs": [
        {
          "output_type": "execute_result",
          "data": {
            "text/plain": [
              "(5110, 12)"
            ]
          },
          "metadata": {},
          "execution_count": 36
        }
      ]
    },
    {
      "cell_type": "markdown",
      "source": [
        "There are 5110 rows and 12 columns in this dataset."
      ],
      "metadata": {
        "id": "Aa6MMIbQJyjt"
      }
    },
    {
      "cell_type": "code",
      "source": [
        "df1.info()"
      ],
      "metadata": {
        "id": "hKP4bTmL3wMh",
        "colab": {
          "base_uri": "https://localhost:8080/"
        },
        "outputId": "54a3cc9d-ca6d-4b81-98b5-904d325c3f33"
      },
      "execution_count": 37,
      "outputs": [
        {
          "output_type": "stream",
          "name": "stdout",
          "text": [
            "<class 'pandas.core.frame.DataFrame'>\n",
            "RangeIndex: 5110 entries, 0 to 5109\n",
            "Data columns (total 12 columns):\n",
            " #   Column             Non-Null Count  Dtype  \n",
            "---  ------             --------------  -----  \n",
            " 0   id                 5110 non-null   int64  \n",
            " 1   gender             5110 non-null   object \n",
            " 2   age                5110 non-null   float64\n",
            " 3   hypertension       5110 non-null   int64  \n",
            " 4   heart_disease      5110 non-null   int64  \n",
            " 5   ever_married       5110 non-null   object \n",
            " 6   work_type          5110 non-null   object \n",
            " 7   Residence_type     5110 non-null   object \n",
            " 8   avg_glucose_level  5110 non-null   float64\n",
            " 9   bmi                4909 non-null   float64\n",
            " 10  smoking_status     5110 non-null   object \n",
            " 11  stroke             5110 non-null   int64  \n",
            "dtypes: float64(3), int64(4), object(5)\n",
            "memory usage: 479.2+ KB\n"
          ]
        }
      ]
    },
    {
      "cell_type": "markdown",
      "source": [
        "## **3.1 Check for Duplicates**"
      ],
      "metadata": {
        "id": "KrpGqVHOKlcj"
      }
    },
    {
      "cell_type": "code",
      "source": [
        "df1.duplicated().sum()"
      ],
      "metadata": {
        "colab": {
          "base_uri": "https://localhost:8080/"
        },
        "id": "KlTMPsf5KodL",
        "outputId": "fad4d1ad-f491-4b96-e5e6-a0b41d190a19"
      },
      "execution_count": 39,
      "outputs": [
        {
          "output_type": "execute_result",
          "data": {
            "text/plain": [
              "0"
            ]
          },
          "metadata": {},
          "execution_count": 39
        }
      ]
    },
    {
      "cell_type": "markdown",
      "source": [
        "There are no duplicates in this dataset."
      ],
      "metadata": {
        "id": "bRb3HbIdK0DB"
      }
    },
    {
      "cell_type": "markdown",
      "source": [
        "## **3.2 Check for Missing Values**"
      ],
      "metadata": {
        "id": "u7L7hrRCLwIO"
      }
    },
    {
      "cell_type": "code",
      "source": [
        "df1.isna().sum()"
      ],
      "metadata": {
        "colab": {
          "base_uri": "https://localhost:8080/"
        },
        "id": "_TuTSpkQybwQ",
        "outputId": "f6620b2f-e450-4e85-984b-7c664851cf9e"
      },
      "execution_count": 40,
      "outputs": [
        {
          "output_type": "execute_result",
          "data": {
            "text/plain": [
              "id                     0\n",
              "gender                 0\n",
              "age                    0\n",
              "hypertension           0\n",
              "heart_disease          0\n",
              "ever_married           0\n",
              "work_type              0\n",
              "Residence_type         0\n",
              "avg_glucose_level      0\n",
              "bmi                  201\n",
              "smoking_status         0\n",
              "stroke                 0\n",
              "dtype: int64"
            ]
          },
          "metadata": {},
          "execution_count": 40
        }
      ]
    },
    {
      "cell_type": "markdown",
      "source": [
        "There are **201 missing values** in the column: **`bmi`**."
      ],
      "metadata": {
        "id": "Xb34dELZJ7yq"
      }
    },
    {
      "cell_type": "code",
      "source": [
        "#Check the % of missing values for each column.\n",
        "df1.isna().sum() / df1.shape[0]"
      ],
      "metadata": {
        "colab": {
          "base_uri": "https://localhost:8080/"
        },
        "id": "-ni7Uu4SL7Oi",
        "outputId": "540d8e1c-ecdf-42d4-c0e2-9c24c0cdbeb2"
      },
      "execution_count": 41,
      "outputs": [
        {
          "output_type": "execute_result",
          "data": {
            "text/plain": [
              "id                   0.000000\n",
              "gender               0.000000\n",
              "age                  0.000000\n",
              "hypertension         0.000000\n",
              "heart_disease        0.000000\n",
              "ever_married         0.000000\n",
              "work_type            0.000000\n",
              "Residence_type       0.000000\n",
              "avg_glucose_level    0.000000\n",
              "bmi                  0.039335\n",
              "smoking_status       0.000000\n",
              "stroke               0.000000\n",
              "dtype: float64"
            ]
          },
          "metadata": {},
          "execution_count": 41
        }
      ]
    },
    {
      "cell_type": "markdown",
      "source": [
        "The rows that are missing values in the `bmi` column is 3.9% which is less than 5% of the overall data, therefore, we can drop these rows."
      ],
      "metadata": {
        "id": "ug8EblVHL9_U"
      }
    },
    {
      "cell_type": "code",
      "source": [
        "#Drop rows with missing values\n",
        "df1.dropna(inplace=True)"
      ],
      "metadata": {
        "id": "b3_7t48CM9GI"
      },
      "execution_count": 42,
      "outputs": []
    },
    {
      "cell_type": "code",
      "source": [
        "#Check to make sure there are no more missing values\n",
        "df1.isna().sum()"
      ],
      "metadata": {
        "colab": {
          "base_uri": "https://localhost:8080/"
        },
        "id": "CmZ49xGNNRQK",
        "outputId": "22e18a6f-1f32-48cc-a63d-e50829aeac0c"
      },
      "execution_count": 43,
      "outputs": [
        {
          "output_type": "execute_result",
          "data": {
            "text/plain": [
              "id                   0\n",
              "gender               0\n",
              "age                  0\n",
              "hypertension         0\n",
              "heart_disease        0\n",
              "ever_married         0\n",
              "work_type            0\n",
              "Residence_type       0\n",
              "avg_glucose_level    0\n",
              "bmi                  0\n",
              "smoking_status       0\n",
              "stroke               0\n",
              "dtype: int64"
            ]
          },
          "metadata": {},
          "execution_count": 43
        }
      ]
    },
    {
      "cell_type": "markdown",
      "source": [
        "There are no more missing values in this dataset."
      ],
      "metadata": {
        "id": "uDFc-l7JNp0C"
      }
    },
    {
      "cell_type": "markdown",
      "source": [
        "## **3.3 Check for Unnecessary Columns**"
      ],
      "metadata": {
        "id": "zQW6gUALN9W3"
      }
    },
    {
      "cell_type": "code",
      "source": [
        "#Display the number of rows and columns\n",
        "df1.shape"
      ],
      "metadata": {
        "colab": {
          "base_uri": "https://localhost:8080/"
        },
        "id": "lZghZ36gOMDr",
        "outputId": "081509df-c0a2-4076-9aa3-0a61eb816074"
      },
      "execution_count": 45,
      "outputs": [
        {
          "output_type": "execute_result",
          "data": {
            "text/plain": [
              "(4909, 12)"
            ]
          },
          "metadata": {},
          "execution_count": 45
        }
      ]
    },
    {
      "cell_type": "markdown",
      "source": [
        "The dataset currently consists of 4909 rows and 12 columns."
      ],
      "metadata": {
        "id": "swI3ts6KOPOK"
      }
    },
    {
      "cell_type": "code",
      "source": [
        "#Check if there are any columns where all data have the same or different values, \n",
        "#because such columns are usually not useful in modeling.\n",
        "df1.nunique()"
      ],
      "metadata": {
        "colab": {
          "base_uri": "https://localhost:8080/"
        },
        "id": "Gy6AZ239ODCU",
        "outputId": "a57b8aa8-6567-4fd1-f1d7-d10c743f9a70"
      },
      "execution_count": 46,
      "outputs": [
        {
          "output_type": "execute_result",
          "data": {
            "text/plain": [
              "id                   4909\n",
              "gender                  3\n",
              "age                   104\n",
              "hypertension            2\n",
              "heart_disease           2\n",
              "ever_married            2\n",
              "work_type               5\n",
              "Residence_type          2\n",
              "avg_glucose_level    3852\n",
              "bmi                   418\n",
              "smoking_status          4\n",
              "stroke                  2\n",
              "dtype: int64"
            ]
          },
          "metadata": {},
          "execution_count": 46
        }
      ]
    },
    {
      "cell_type": "markdown",
      "source": [
        "I will drop the `id` column from the dataset as every value in this column is unique and it does not provide any useful information for predicting the target."
      ],
      "metadata": {
        "id": "Qj4dbhFjOirG"
      }
    },
    {
      "cell_type": "code",
      "source": [
        "df1 = df1.drop(columns = 'id')"
      ],
      "metadata": {
        "id": "bhGehwSQOzK5"
      },
      "execution_count": 47,
      "outputs": []
    },
    {
      "cell_type": "code",
      "source": [
        "#Confirm that the column: 'id' has been dropped.\n",
        "df1.info()"
      ],
      "metadata": {
        "colab": {
          "base_uri": "https://localhost:8080/"
        },
        "id": "ui9HuLn2O4BZ",
        "outputId": "c3d9f73f-0b5f-4de2-a522-caa1825c1724"
      },
      "execution_count": 49,
      "outputs": [
        {
          "output_type": "stream",
          "name": "stdout",
          "text": [
            "<class 'pandas.core.frame.DataFrame'>\n",
            "Int64Index: 4909 entries, 0 to 5109\n",
            "Data columns (total 11 columns):\n",
            " #   Column             Non-Null Count  Dtype  \n",
            "---  ------             --------------  -----  \n",
            " 0   gender             4909 non-null   object \n",
            " 1   age                4909 non-null   float64\n",
            " 2   hypertension       4909 non-null   int64  \n",
            " 3   heart_disease      4909 non-null   int64  \n",
            " 4   ever_married       4909 non-null   object \n",
            " 5   work_type          4909 non-null   object \n",
            " 6   Residence_type     4909 non-null   object \n",
            " 7   avg_glucose_level  4909 non-null   float64\n",
            " 8   bmi                4909 non-null   float64\n",
            " 9   smoking_status     4909 non-null   object \n",
            " 10  stroke             4909 non-null   int64  \n",
            "dtypes: float64(3), int64(3), object(5)\n",
            "memory usage: 460.2+ KB\n"
          ]
        }
      ]
    },
    {
      "cell_type": "markdown",
      "source": [
        "## **3.4 Check for Inconsistent Values**"
      ],
      "metadata": {
        "id": "AOaQJ3bVPBCF"
      }
    },
    {
      "cell_type": "markdown",
      "source": [
        "Check for inconsistent values of **categorical columns**: `gender`, `ever_married`, `work_type`, `Residence_type`, `smoking_status`, `stroke`"
      ],
      "metadata": {
        "id": "StDk4XPtPJB8"
      }
    },
    {
      "cell_type": "markdown",
      "source": [
        "**Column: `gender`**"
      ],
      "metadata": {
        "id": "Y287KfjDPTrn"
      }
    },
    {
      "cell_type": "code",
      "source": [
        "#Column: gender\n",
        "df1['gender'].value_counts() "
      ],
      "metadata": {
        "colab": {
          "base_uri": "https://localhost:8080/"
        },
        "id": "-UmSV57KPViW",
        "outputId": "d740342d-c2ee-42ba-c702-c7f39667e513"
      },
      "execution_count": 52,
      "outputs": [
        {
          "output_type": "execute_result",
          "data": {
            "text/plain": [
              "Female    2897\n",
              "Male      2011\n",
              "Other        1\n",
              "Name: gender, dtype: int64"
            ]
          },
          "metadata": {},
          "execution_count": 52
        }
      ]
    },
    {
      "cell_type": "markdown",
      "source": [
        "There are no inconsistent values in this column."
      ],
      "metadata": {
        "id": "Z7PR9K9hPeSv"
      }
    },
    {
      "cell_type": "markdown",
      "source": [
        "**Column: `ever_married`**"
      ],
      "metadata": {
        "id": "cTDs0XEGPiph"
      }
    },
    {
      "cell_type": "code",
      "source": [
        "#Column: ever_married\n",
        "df1['ever_married'].value_counts() "
      ],
      "metadata": {
        "colab": {
          "base_uri": "https://localhost:8080/"
        },
        "id": "kbJbFYfUPsUK",
        "outputId": "8f9eb010-f5fd-4780-8539-08022042eed1"
      },
      "execution_count": 54,
      "outputs": [
        {
          "output_type": "execute_result",
          "data": {
            "text/plain": [
              "Yes    3204\n",
              "No     1705\n",
              "Name: ever_married, dtype: int64"
            ]
          },
          "metadata": {},
          "execution_count": 54
        }
      ]
    },
    {
      "cell_type": "markdown",
      "source": [
        "There are no inconsistent values in this column."
      ],
      "metadata": {
        "id": "2nWTIO5dPuzF"
      }
    },
    {
      "cell_type": "markdown",
      "source": [
        "**Column: `work_type`**"
      ],
      "metadata": {
        "id": "MH1eHx0VPyTJ"
      }
    },
    {
      "cell_type": "code",
      "source": [
        "#Column: work_type\n",
        "df1['work_type'].value_counts() "
      ],
      "metadata": {
        "colab": {
          "base_uri": "https://localhost:8080/"
        },
        "id": "2PWSX4OCP5ml",
        "outputId": "37ac316a-cde6-4820-a21f-f7747d8a8ded"
      },
      "execution_count": 55,
      "outputs": [
        {
          "output_type": "execute_result",
          "data": {
            "text/plain": [
              "Private          2811\n",
              "Self-employed     775\n",
              "children          671\n",
              "Govt_job          630\n",
              "Never_worked       22\n",
              "Name: work_type, dtype: int64"
            ]
          },
          "metadata": {},
          "execution_count": 55
        }
      ]
    },
    {
      "cell_type": "markdown",
      "source": [
        "There are no inconsistent values in this column."
      ],
      "metadata": {
        "id": "xV1sCd6QP83d"
      }
    },
    {
      "cell_type": "markdown",
      "source": [
        "**Column: `Residence_type`**"
      ],
      "metadata": {
        "id": "Nhg_nPrXQArr"
      }
    },
    {
      "cell_type": "code",
      "source": [
        "#Column: Residence_type\n",
        "df1['Residence_type'].value_counts()"
      ],
      "metadata": {
        "colab": {
          "base_uri": "https://localhost:8080/"
        },
        "id": "TlA7Rh9BQE1z",
        "outputId": "df5a8901-5d1c-4cc4-d539-747ce1f36006"
      },
      "execution_count": 56,
      "outputs": [
        {
          "output_type": "execute_result",
          "data": {
            "text/plain": [
              "Urban    2490\n",
              "Rural    2419\n",
              "Name: Residence_type, dtype: int64"
            ]
          },
          "metadata": {},
          "execution_count": 56
        }
      ]
    },
    {
      "cell_type": "markdown",
      "source": [
        "There are no inconsistent values in this column."
      ],
      "metadata": {
        "id": "CGFxPC8gQKsS"
      }
    },
    {
      "cell_type": "markdown",
      "source": [
        "**Column: `smoking_status`**"
      ],
      "metadata": {
        "id": "hH7ct9g7QNgS"
      }
    },
    {
      "cell_type": "code",
      "source": [
        "#Column: smoking_status\n",
        "df1['smoking_status'].value_counts()"
      ],
      "metadata": {
        "colab": {
          "base_uri": "https://localhost:8080/"
        },
        "id": "fpkXdNLXQQ1H",
        "outputId": "abbb4424-e525-4c03-fb32-49aa9ab15791"
      },
      "execution_count": 57,
      "outputs": [
        {
          "output_type": "execute_result",
          "data": {
            "text/plain": [
              "never smoked       1852\n",
              "Unknown            1483\n",
              "formerly smoked     837\n",
              "smokes              737\n",
              "Name: smoking_status, dtype: int64"
            ]
          },
          "metadata": {},
          "execution_count": 57
        }
      ]
    },
    {
      "cell_type": "markdown",
      "source": [
        "There are no inconsistent values in this column."
      ],
      "metadata": {
        "id": "6tNajfC1QWgD"
      }
    },
    {
      "cell_type": "markdown",
      "source": [
        "**Column: `stroke`**"
      ],
      "metadata": {
        "id": "qBZjQm-RRaOg"
      }
    },
    {
      "cell_type": "code",
      "source": [
        "#Column: stroke\n",
        "df1['stroke'].value_counts()"
      ],
      "metadata": {
        "colab": {
          "base_uri": "https://localhost:8080/"
        },
        "id": "GAiYsByERcwz",
        "outputId": "139fa486-8e63-413d-9170-105e428d2bd1"
      },
      "execution_count": 60,
      "outputs": [
        {
          "output_type": "execute_result",
          "data": {
            "text/plain": [
              "0    4700\n",
              "1     209\n",
              "Name: stroke, dtype: int64"
            ]
          },
          "metadata": {},
          "execution_count": 60
        }
      ]
    },
    {
      "cell_type": "markdown",
      "source": [
        "There are no inconsistent values in this column.\n",
        "\n",
        "This is our target column.\n",
        "\n",
        "The classes are unbalanced."
      ],
      "metadata": {
        "id": "AzfKZFyCRhVU"
      }
    },
    {
      "cell_type": "markdown",
      "source": [
        "## **3.5 Check for Odd Values**"
      ],
      "metadata": {
        "id": "sfCCJMgyQalv"
      }
    },
    {
      "cell_type": "markdown",
      "source": [
        "Check for any odd values in the **numerical** columns: `age`, `hypertension`, `heart_disease`, `avg_glucose_level`, `bmi`"
      ],
      "metadata": {
        "id": "6yv2aBKzQhDy"
      }
    },
    {
      "cell_type": "code",
      "source": [
        "df1.describe()"
      ],
      "metadata": {
        "colab": {
          "base_uri": "https://localhost:8080/",
          "height": 300
        },
        "id": "z3Uc8IQeQfWF",
        "outputId": "3aaca82d-7b79-427a-95ed-39ee3e5570dd"
      },
      "execution_count": 59,
      "outputs": [
        {
          "output_type": "execute_result",
          "data": {
            "text/plain": [
              "               age  hypertension  heart_disease  avg_glucose_level  \\\n",
              "count  4909.000000   4909.000000    4909.000000        4909.000000   \n",
              "mean     42.865374      0.091872       0.049501         105.305150   \n",
              "std      22.555115      0.288875       0.216934          44.424341   \n",
              "min       0.080000      0.000000       0.000000          55.120000   \n",
              "25%      25.000000      0.000000       0.000000          77.070000   \n",
              "50%      44.000000      0.000000       0.000000          91.680000   \n",
              "75%      60.000000      0.000000       0.000000         113.570000   \n",
              "max      82.000000      1.000000       1.000000         271.740000   \n",
              "\n",
              "               bmi       stroke  \n",
              "count  4909.000000  4909.000000  \n",
              "mean     28.893237     0.042575  \n",
              "std       7.854067     0.201917  \n",
              "min      10.300000     0.000000  \n",
              "25%      23.500000     0.000000  \n",
              "50%      28.100000     0.000000  \n",
              "75%      33.100000     0.000000  \n",
              "max      97.600000     1.000000  "
            ],
            "text/html": [
              "\n",
              "  <div id=\"df-7d077991-86ae-4e18-9281-01702fac21c4\">\n",
              "    <div class=\"colab-df-container\">\n",
              "      <div>\n",
              "<style scoped>\n",
              "    .dataframe tbody tr th:only-of-type {\n",
              "        vertical-align: middle;\n",
              "    }\n",
              "\n",
              "    .dataframe tbody tr th {\n",
              "        vertical-align: top;\n",
              "    }\n",
              "\n",
              "    .dataframe thead th {\n",
              "        text-align: right;\n",
              "    }\n",
              "</style>\n",
              "<table border=\"1\" class=\"dataframe\">\n",
              "  <thead>\n",
              "    <tr style=\"text-align: right;\">\n",
              "      <th></th>\n",
              "      <th>age</th>\n",
              "      <th>hypertension</th>\n",
              "      <th>heart_disease</th>\n",
              "      <th>avg_glucose_level</th>\n",
              "      <th>bmi</th>\n",
              "      <th>stroke</th>\n",
              "    </tr>\n",
              "  </thead>\n",
              "  <tbody>\n",
              "    <tr>\n",
              "      <th>count</th>\n",
              "      <td>4909.000000</td>\n",
              "      <td>4909.000000</td>\n",
              "      <td>4909.000000</td>\n",
              "      <td>4909.000000</td>\n",
              "      <td>4909.000000</td>\n",
              "      <td>4909.000000</td>\n",
              "    </tr>\n",
              "    <tr>\n",
              "      <th>mean</th>\n",
              "      <td>42.865374</td>\n",
              "      <td>0.091872</td>\n",
              "      <td>0.049501</td>\n",
              "      <td>105.305150</td>\n",
              "      <td>28.893237</td>\n",
              "      <td>0.042575</td>\n",
              "    </tr>\n",
              "    <tr>\n",
              "      <th>std</th>\n",
              "      <td>22.555115</td>\n",
              "      <td>0.288875</td>\n",
              "      <td>0.216934</td>\n",
              "      <td>44.424341</td>\n",
              "      <td>7.854067</td>\n",
              "      <td>0.201917</td>\n",
              "    </tr>\n",
              "    <tr>\n",
              "      <th>min</th>\n",
              "      <td>0.080000</td>\n",
              "      <td>0.000000</td>\n",
              "      <td>0.000000</td>\n",
              "      <td>55.120000</td>\n",
              "      <td>10.300000</td>\n",
              "      <td>0.000000</td>\n",
              "    </tr>\n",
              "    <tr>\n",
              "      <th>25%</th>\n",
              "      <td>25.000000</td>\n",
              "      <td>0.000000</td>\n",
              "      <td>0.000000</td>\n",
              "      <td>77.070000</td>\n",
              "      <td>23.500000</td>\n",
              "      <td>0.000000</td>\n",
              "    </tr>\n",
              "    <tr>\n",
              "      <th>50%</th>\n",
              "      <td>44.000000</td>\n",
              "      <td>0.000000</td>\n",
              "      <td>0.000000</td>\n",
              "      <td>91.680000</td>\n",
              "      <td>28.100000</td>\n",
              "      <td>0.000000</td>\n",
              "    </tr>\n",
              "    <tr>\n",
              "      <th>75%</th>\n",
              "      <td>60.000000</td>\n",
              "      <td>0.000000</td>\n",
              "      <td>0.000000</td>\n",
              "      <td>113.570000</td>\n",
              "      <td>33.100000</td>\n",
              "      <td>0.000000</td>\n",
              "    </tr>\n",
              "    <tr>\n",
              "      <th>max</th>\n",
              "      <td>82.000000</td>\n",
              "      <td>1.000000</td>\n",
              "      <td>1.000000</td>\n",
              "      <td>271.740000</td>\n",
              "      <td>97.600000</td>\n",
              "      <td>1.000000</td>\n",
              "    </tr>\n",
              "  </tbody>\n",
              "</table>\n",
              "</div>\n",
              "      <button class=\"colab-df-convert\" onclick=\"convertToInteractive('df-7d077991-86ae-4e18-9281-01702fac21c4')\"\n",
              "              title=\"Convert this dataframe to an interactive table.\"\n",
              "              style=\"display:none;\">\n",
              "        \n",
              "  <svg xmlns=\"http://www.w3.org/2000/svg\" height=\"24px\"viewBox=\"0 0 24 24\"\n",
              "       width=\"24px\">\n",
              "    <path d=\"M0 0h24v24H0V0z\" fill=\"none\"/>\n",
              "    <path d=\"M18.56 5.44l.94 2.06.94-2.06 2.06-.94-2.06-.94-.94-2.06-.94 2.06-2.06.94zm-11 1L8.5 8.5l.94-2.06 2.06-.94-2.06-.94L8.5 2.5l-.94 2.06-2.06.94zm10 10l.94 2.06.94-2.06 2.06-.94-2.06-.94-.94-2.06-.94 2.06-2.06.94z\"/><path d=\"M17.41 7.96l-1.37-1.37c-.4-.4-.92-.59-1.43-.59-.52 0-1.04.2-1.43.59L10.3 9.45l-7.72 7.72c-.78.78-.78 2.05 0 2.83L4 21.41c.39.39.9.59 1.41.59.51 0 1.02-.2 1.41-.59l7.78-7.78 2.81-2.81c.8-.78.8-2.07 0-2.86zM5.41 20L4 18.59l7.72-7.72 1.47 1.35L5.41 20z\"/>\n",
              "  </svg>\n",
              "      </button>\n",
              "      \n",
              "  <style>\n",
              "    .colab-df-container {\n",
              "      display:flex;\n",
              "      flex-wrap:wrap;\n",
              "      gap: 12px;\n",
              "    }\n",
              "\n",
              "    .colab-df-convert {\n",
              "      background-color: #E8F0FE;\n",
              "      border: none;\n",
              "      border-radius: 50%;\n",
              "      cursor: pointer;\n",
              "      display: none;\n",
              "      fill: #1967D2;\n",
              "      height: 32px;\n",
              "      padding: 0 0 0 0;\n",
              "      width: 32px;\n",
              "    }\n",
              "\n",
              "    .colab-df-convert:hover {\n",
              "      background-color: #E2EBFA;\n",
              "      box-shadow: 0px 1px 2px rgba(60, 64, 67, 0.3), 0px 1px 3px 1px rgba(60, 64, 67, 0.15);\n",
              "      fill: #174EA6;\n",
              "    }\n",
              "\n",
              "    [theme=dark] .colab-df-convert {\n",
              "      background-color: #3B4455;\n",
              "      fill: #D2E3FC;\n",
              "    }\n",
              "\n",
              "    [theme=dark] .colab-df-convert:hover {\n",
              "      background-color: #434B5C;\n",
              "      box-shadow: 0px 1px 3px 1px rgba(0, 0, 0, 0.15);\n",
              "      filter: drop-shadow(0px 1px 2px rgba(0, 0, 0, 0.3));\n",
              "      fill: #FFFFFF;\n",
              "    }\n",
              "  </style>\n",
              "\n",
              "      <script>\n",
              "        const buttonEl =\n",
              "          document.querySelector('#df-7d077991-86ae-4e18-9281-01702fac21c4 button.colab-df-convert');\n",
              "        buttonEl.style.display =\n",
              "          google.colab.kernel.accessAllowed ? 'block' : 'none';\n",
              "\n",
              "        async function convertToInteractive(key) {\n",
              "          const element = document.querySelector('#df-7d077991-86ae-4e18-9281-01702fac21c4');\n",
              "          const dataTable =\n",
              "            await google.colab.kernel.invokeFunction('convertToInteractive',\n",
              "                                                     [key], {});\n",
              "          if (!dataTable) return;\n",
              "\n",
              "          const docLinkHtml = 'Like what you see? Visit the ' +\n",
              "            '<a target=\"_blank\" href=https://colab.research.google.com/notebooks/data_table.ipynb>data table notebook</a>'\n",
              "            + ' to learn more about interactive tables.';\n",
              "          element.innerHTML = '';\n",
              "          dataTable['output_type'] = 'display_data';\n",
              "          await google.colab.output.renderOutput(dataTable, element);\n",
              "          const docLink = document.createElement('div');\n",
              "          docLink.innerHTML = docLinkHtml;\n",
              "          element.appendChild(docLink);\n",
              "        }\n",
              "      </script>\n",
              "    </div>\n",
              "  </div>\n",
              "  "
            ]
          },
          "metadata": {},
          "execution_count": 59
        }
      ]
    },
    {
      "cell_type": "markdown",
      "source": [
        "- There are no odd values in this dataset.\n",
        "- From this data, we can see that the columns: `hypertension`, `heart_disease`, and `stroke` (target) only have two values 0 and 1, which means that these columns are categorical as opposed to continuous numerical."
      ],
      "metadata": {
        "id": "xIg-7o2LQ3i7"
      }
    },
    {
      "cell_type": "markdown",
      "source": [
        "Note: The dtype of the column: `Age` is `float` and minimum age is 0.08 and not a whole number."
      ],
      "metadata": {
        "id": "6ILAYG73Wkr2"
      }
    },
    {
      "cell_type": "code",
      "source": [
        "#pd.set_option('display.max_rows', None)\n",
        "df1['age'].value_counts()"
      ],
      "metadata": {
        "id": "H9pyMRl0Z2pM"
      },
      "execution_count": null,
      "outputs": []
    },
    {
      "cell_type": "markdown",
      "source": [
        "It appears that all ages under 2 are expressed in decimals rather than whole numbers in this dataset."
      ],
      "metadata": {
        "id": "uIkm16CQaLX6"
      }
    },
    {
      "cell_type": "markdown",
      "source": [
        "# **4. Exploratory Data Analysis**"
      ],
      "metadata": {
        "id": "5osYv-XVKTxZ"
      }
    },
    {
      "cell_type": "code",
      "source": [
        "import matplotlib.pyplot as plt\n",
        "import seaborn as sns"
      ],
      "metadata": {
        "id": "jwA25R-qSiGw"
      },
      "execution_count": 66,
      "outputs": []
    },
    {
      "cell_type": "code",
      "source": [
        "df1.info()"
      ],
      "metadata": {
        "colab": {
          "base_uri": "https://localhost:8080/"
        },
        "id": "WJXMkuFqSSKc",
        "outputId": "a623b414-f28f-4105-ec3e-5d62b1956e28"
      },
      "execution_count": 61,
      "outputs": [
        {
          "output_type": "stream",
          "name": "stdout",
          "text": [
            "<class 'pandas.core.frame.DataFrame'>\n",
            "Int64Index: 4909 entries, 0 to 5109\n",
            "Data columns (total 11 columns):\n",
            " #   Column             Non-Null Count  Dtype  \n",
            "---  ------             --------------  -----  \n",
            " 0   gender             4909 non-null   object \n",
            " 1   age                4909 non-null   float64\n",
            " 2   hypertension       4909 non-null   int64  \n",
            " 3   heart_disease      4909 non-null   int64  \n",
            " 4   ever_married       4909 non-null   object \n",
            " 5   work_type          4909 non-null   object \n",
            " 6   Residence_type     4909 non-null   object \n",
            " 7   avg_glucose_level  4909 non-null   float64\n",
            " 8   bmi                4909 non-null   float64\n",
            " 9   smoking_status     4909 non-null   object \n",
            " 10  stroke             4909 non-null   int64  \n",
            "dtypes: float64(3), int64(3), object(5)\n",
            "memory usage: 460.2+ KB\n"
          ]
        }
      ]
    },
    {
      "cell_type": "markdown",
      "source": [
        "- Numerical Features:\n",
        "   - age\n",
        "   - avg_glucose_level\n",
        "   - bmi\n",
        "- Categorical Features (includes 0 and 1):\n",
        "  - gender\n",
        "  - hypertension\n",
        "  - heart_disease\n",
        "  - ever_married\n",
        "  - work_type\n",
        "  - Residence_type\n",
        "  - smoking_status\n",
        "- Target (Classification):\n",
        "  - stroke\n"
      ],
      "metadata": {
        "id": "rWVQ8LjBTOX8"
      }
    },
    {
      "cell_type": "markdown",
      "source": [
        "## **4.1 Numerical Features**"
      ],
      "metadata": {
        "id": "beXYkSnnR_lD"
      }
    },
    {
      "cell_type": "markdown",
      "source": [
        "**Boxplot and Histogram**"
      ],
      "metadata": {
        "id": "b0hOP6NxSOjc"
      }
    },
    {
      "cell_type": "markdown",
      "source": [
        "**`age`**"
      ],
      "metadata": {
        "id": "H5hCXtEmSVeJ"
      }
    },
    {
      "cell_type": "code",
      "source": [
        "#Create two plots side by side\n",
        "fig, axes = plt.subplots(ncols = 2, figsize = (12,4))\n",
        "#Use Seaborn to produce a boxplot\n",
        "sns.boxplot(y='age', data=df1, ax=axes[0])\n",
        "axes[0].set_title(\"age\");\n",
        "#Create a histogram\n",
        "df1['age'].hist(bins = 'auto', edgecolor = 'black', ax=axes[1])\n",
        "axes[1].set_title('Distribution of age')\n",
        "axes[1].set_xlabel('age')"
      ],
      "metadata": {
        "colab": {
          "base_uri": "https://localhost:8080/",
          "height": 428
        },
        "id": "rMppzWWqSUcE",
        "outputId": "93e80436-f120-425c-853f-2948c29da9e6"
      },
      "execution_count": 69,
      "outputs": [
        {
          "output_type": "execute_result",
          "data": {
            "text/plain": [
              "Text(0.5, 0, 'age')"
            ]
          },
          "metadata": {},
          "execution_count": 69
        },
        {
          "output_type": "display_data",
          "data": {
            "text/plain": [
              "<Figure size 1200x400 with 2 Axes>"
            ],
            "image/png": "[encoded data removed]"
          },
          "metadata": {}
        }
      ]
    },
    {
      "cell_type": "markdown",
      "source": [
        "**Interpretation**: The data is fairly evenly distributed, and there are no outliers."
      ],
      "metadata": {
        "id": "_3RtAjnETu0C"
      }
    },
    {
      "cell_type": "markdown",
      "source": [
        "**`avg_glucose_level`**"
      ],
      "metadata": {
        "id": "LdPNCohDTzkT"
      }
    },
    {
      "cell_type": "code",
      "source": [
        "#Create two plots side by side\n",
        "fig, axes = plt.subplots(ncols = 2, figsize = (12,4))\n",
        "#Use Seaborn to produce a boxplot\n",
        "sns.boxplot(y='avg_glucose_level', data=df1, ax=axes[0])\n",
        "axes[0].set_title(\"Average Glucose Level\");\n",
        "#Create a histogram\n",
        "df1['avg_glucose_level'].hist(bins = 'auto', edgecolor = 'black', ax=axes[1])\n",
        "axes[1].set_title('Distribution of Average Glucose Level')\n",
        "axes[1].set_xlabel('avg_glucose_level')"
      ],
      "metadata": {
        "colab": {
          "base_uri": "https://localhost:8080/",
          "height": 428
        },
        "id": "LjUZclyQT2xu",
        "outputId": "540eeda5-1335-4011-f4b6-27896641d4dd"
      },
      "execution_count": 70,
      "outputs": [
        {
          "output_type": "execute_result",
          "data": {
            "text/plain": [
              "Text(0.5, 0, 'avg_glucose_level')"
            ]
          },
          "metadata": {},
          "execution_count": 70
        },
        {
          "output_type": "display_data",
          "data": {
            "text/plain": [
              "<Figure size 1200x400 with 2 Axes>"
            ],
            "image/png": "[encoded data removed]"
          },
          "metadata": {}
        }
      ]
    },
    {
      "cell_type": "markdown",
      "source": [
        "**Interpretation**: The data is skewed to the high side. There are many outliers on the high side."
      ],
      "metadata": {
        "id": "Juv7ZpRhUAfQ"
      }
    },
    {
      "cell_type": "markdown",
      "source": [
        "**`bmi`**"
      ],
      "metadata": {
        "id": "NBXd5RneUJ2c"
      }
    },
    {
      "cell_type": "code",
      "source": [
        "#Create two plots side by side\n",
        "fig, axes = plt.subplots(ncols = 2, figsize = (12,4))\n",
        "#Use Seaborn to produce a boxplot\n",
        "sns.boxplot(y='bmi', data=df1, ax=axes[0])\n",
        "axes[0].set_title(\"BMI\");\n",
        "#Create a histogram\n",
        "df1['bmi'].hist(bins = 'auto', edgecolor = 'black', ax=axes[1])\n",
        "axes[1].set_title('Distribution of bmi')\n",
        "axes[1].set_xlabel('bmi')"
      ],
      "metadata": {
        "colab": {
          "base_uri": "https://localhost:8080/",
          "height": 428
        },
        "id": "CJgYj8Y6UM-N",
        "outputId": "399c1778-295e-4388-c3c7-e6c421cc382b"
      },
      "execution_count": 71,
      "outputs": [
        {
          "output_type": "execute_result",
          "data": {
            "text/plain": [
              "Text(0.5, 0, 'bmi')"
            ]
          },
          "metadata": {},
          "execution_count": 71
        },
        {
          "output_type": "display_data",
          "data": {
            "text/plain": [
              "<Figure size 1200x400 with 2 Axes>"
            ],
            "image/png": "[encoded data removed]"
          },
          "metadata": {}
        }
      ]
    },
    {
      "cell_type": "markdown",
      "source": [
        "**Interpretation**: The data is skewed to the high side and there are several outliers for values greater than ~50."
      ],
      "metadata": {
        "id": "eZ5F3GQSUZO7"
      }
    },
    {
      "cell_type": "markdown",
      "source": [
        "## **4.2 Categorical Features**"
      ],
      "metadata": {
        "id": "ob4vuDMPSB6W"
      }
    },
    {
      "cell_type": "markdown",
      "source": [
        "  - gender\n",
        "  - hypertension\n",
        "  - heart_disease\n",
        "  - ever_married\n",
        "  - work_type\n",
        "  - Residence_type\n",
        "  - smoking_status\n"
      ],
      "metadata": {
        "id": "x3MW5hVJU0oi"
      }
    },
    {
      "cell_type": "markdown",
      "source": [
        "**`gender`**"
      ],
      "metadata": {
        "id": "JPqnYSpNVFuY"
      }
    },
    {
      "cell_type": "code",
      "source": [
        "# Countplot with seaborn\n",
        "sns.countplot(data=df1,x='gender');"
      ],
      "metadata": {
        "colab": {
          "base_uri": "https://localhost:8080/",
          "height": 450
        },
        "id": "UykF7e0zVKSd",
        "outputId": "197b18e6-dd9d-4ef7-daaa-a9acb1bfe9e6"
      },
      "execution_count": 74,
      "outputs": [
        {
          "output_type": "display_data",
          "data": {
            "text/plain": [
              "<Figure size 640x480 with 1 Axes>"
            ],
            "image/png": "[encoded data removed]"
          },
          "metadata": {}
        }
      ]
    },
    {
      "cell_type": "markdown",
      "source": [
        "**Interpretation**: There are more Female data compared to male data."
      ],
      "metadata": {
        "id": "Hx7BwaphVNK_"
      }
    },
    {
      "cell_type": "markdown",
      "source": [
        "**`hypertension`**"
      ],
      "metadata": {
        "id": "8Lqf0qsBVTaa"
      }
    },
    {
      "cell_type": "code",
      "source": [
        "# Countplot with seaborn\n",
        "sns.countplot(data=df1,x='hypertension');"
      ],
      "metadata": {
        "colab": {
          "base_uri": "https://localhost:8080/",
          "height": 449
        },
        "id": "q7L0-f2ZVWSn",
        "outputId": "0080b3d7-aa32-4559-9806-930a9a54240e"
      },
      "execution_count": 75,
      "outputs": [
        {
          "output_type": "display_data",
          "data": {
            "text/plain": [
              "<Figure size 640x480 with 1 Axes>"
            ],
            "image/png": "[encoded data removed]"
          },
          "metadata": {}
        }
      ]
    },
    {
      "cell_type": "markdown",
      "source": [
        "**Interpretation**: Only a small percentage of the data (~10%) shows hypertension = 1"
      ],
      "metadata": {
        "id": "NitOXdu9VYq3"
      }
    },
    {
      "cell_type": "markdown",
      "source": [
        "**`heart_disease`**"
      ],
      "metadata": {
        "id": "QqTPut0hVdh3"
      }
    },
    {
      "cell_type": "code",
      "source": [
        "# Countplot with seaborn\n",
        "sns.countplot(data=df1,x='heart_disease');"
      ],
      "metadata": {
        "colab": {
          "base_uri": "https://localhost:8080/",
          "height": 450
        },
        "id": "GP_Lic0zVfqQ",
        "outputId": "6199d6fb-37f7-4ceb-962a-0bfbc073a12b"
      },
      "execution_count": 76,
      "outputs": [
        {
          "output_type": "display_data",
          "data": {
            "text/plain": [
              "<Figure size 640x480 with 1 Axes>"
            ],
            "image/png": "[encoded data removed]"
          },
          "metadata": {}
        }
      ]
    },
    {
      "cell_type": "markdown",
      "source": [
        "**Interpretation**: Only a small percentage of the data shows heart_disease = 1."
      ],
      "metadata": {
        "id": "R2K0HyvZViDB"
      }
    },
    {
      "cell_type": "markdown",
      "source": [
        "**`ever_married`**"
      ],
      "metadata": {
        "id": "EpbvMnWXVn4x"
      }
    },
    {
      "cell_type": "code",
      "source": [
        "# Countplot with seaborn\n",
        "sns.countplot(data=df1,x='ever_married');"
      ],
      "metadata": {
        "colab": {
          "base_uri": "https://localhost:8080/",
          "height": 450
        },
        "id": "ZQhKzE0aVpc-",
        "outputId": "2e0e7c2e-bdb6-440d-e3bb-451bb0042878"
      },
      "execution_count": 77,
      "outputs": [
        {
          "output_type": "display_data",
          "data": {
            "text/plain": [
              "<Figure size 640x480 with 1 Axes>"
            ],
            "image/png": "[encoded data removed]"
          },
          "metadata": {}
        }
      ]
    },
    {
      "cell_type": "markdown",
      "source": [
        "**Interpretation**: About 2/3 of the data have been married and about 1/3 of the data have never been married."
      ],
      "metadata": {
        "id": "iZX-6JUPVtPV"
      }
    },
    {
      "cell_type": "markdown",
      "source": [
        "**`work_type`**"
      ],
      "metadata": {
        "id": "M9Bufm43WHpz"
      }
    },
    {
      "cell_type": "code",
      "source": [
        "# Countplot with seaborn\n",
        "sns.countplot(data=df1,x='work_type');"
      ],
      "metadata": {
        "colab": {
          "base_uri": "https://localhost:8080/",
          "height": 450
        },
        "id": "CbBMt9W9WJG4",
        "outputId": "eabcfcca-eb68-45f7-b1e2-4fc6634dabac"
      },
      "execution_count": 78,
      "outputs": [
        {
          "output_type": "display_data",
          "data": {
            "text/plain": [
              "<Figure size 640x480 with 1 Axes>"
            ],
            "image/png": "[encoded data removed]"
          },
          "metadata": {}
        }
      ]
    },
    {
      "cell_type": "markdown",
      "source": [
        "**Interpretation**: Many of the patients work at private companies. A very small percentage of the patients who are not children have never worked."
      ],
      "metadata": {
        "id": "K1pn32QAWMhK"
      }
    },
    {
      "cell_type": "markdown",
      "source": [
        "**`Residence_type`**"
      ],
      "metadata": {
        "id": "r7WrLFKkEZRg"
      }
    },
    {
      "cell_type": "code",
      "source": [
        "# Countplot with seaborn\n",
        "sns.countplot(data=df1,x='Residence_type');"
      ],
      "metadata": {
        "colab": {
          "base_uri": "https://localhost:8080/",
          "height": 450
        },
        "id": "JexzDxpQEa6Q",
        "outputId": "8eca409e-48ce-42f9-9f34-9503ed42eb2c"
      },
      "execution_count": 83,
      "outputs": [
        {
          "output_type": "display_data",
          "data": {
            "text/plain": [
              "<Figure size 640x480 with 1 Axes>"
            ],
            "image/png": "[encoded data removed]"
          },
          "metadata": {}
        }
      ]
    },
    {
      "cell_type": "markdown",
      "source": [
        "**Interpretation**: There are about equal number of patients who live in urban areas and rural areas."
      ],
      "metadata": {
        "id": "yWASP72tEfBd"
      }
    },
    {
      "cell_type": "markdown",
      "source": [
        "**`smoking_status`**"
      ],
      "metadata": {
        "id": "-bHvSCm0Eno3"
      }
    },
    {
      "cell_type": "code",
      "source": [
        "# Countplot with seaborn\n",
        "sns.countplot(data=df1,x='smoking_status');"
      ],
      "metadata": {
        "colab": {
          "base_uri": "https://localhost:8080/",
          "height": 450
        },
        "id": "gvssesHzEvDA",
        "outputId": "09253f4b-afda-4a1b-d64c-775cc6f409e2"
      },
      "execution_count": 84,
      "outputs": [
        {
          "output_type": "display_data",
          "data": {
            "text/plain": [
              "<Figure size 640x480 with 1 Axes>"
            ],
            "image/png": "[encoded data removed]"
          },
          "metadata": {}
        }
      ]
    },
    {
      "cell_type": "markdown",
      "source": [
        "**Interpretation**: The group of patients who have never smoked is the largest group in this dataset, but there are also some significant number of patients with unknown smoking status."
      ],
      "metadata": {
        "id": "0UYS0caGExuy"
      }
    },
    {
      "cell_type": "markdown",
      "source": [
        "## **4.3 Target**"
      ],
      "metadata": {
        "id": "TkNqwx-USHHK"
      }
    },
    {
      "cell_type": "markdown",
      "source": [
        "**`stroke`**"
      ],
      "metadata": {
        "id": "uynnVI7mVGfw"
      }
    },
    {
      "cell_type": "code",
      "source": [
        "# Countplot with seaborn\n",
        "sns.countplot(data=df1,x='stroke');"
      ],
      "metadata": {
        "colab": {
          "base_uri": "https://localhost:8080/",
          "height": 449
        },
        "id": "ph6ZVK-4U4NU",
        "outputId": "6220c3d0-73b8-4eed-aba9-426b87f1e02c"
      },
      "execution_count": 73,
      "outputs": [
        {
          "output_type": "display_data",
          "data": {
            "text/plain": [
              "<Figure size 640x480 with 1 Axes>"
            ],
            "image/png": "[encoded data removed]"
          },
          "metadata": {}
        }
      ]
    },
    {
      "cell_type": "markdown",
      "source": [
        "**Interpretation**: Only small percentage of the data shows stroke = 1."
      ],
      "metadata": {
        "id": "KAHTyvTQU-b7"
      }
    }
  ]
}