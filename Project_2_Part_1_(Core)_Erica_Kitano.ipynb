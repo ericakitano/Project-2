{
  "nbformat": 4,
  "nbformat_minor": 0,
  "metadata": {
    "colab": {
      "provenance": [],
      "authorship_tag": "ABX9TyNlGqTHqXuA2IT4acNvhnNY",
      "include_colab_link": true
    },
    "kernelspec": {
      "name": "python3",
      "display_name": "Python 3"
    },
    "language_info": {
      "name": "python"
    }
  },
  "cells": [
    {
      "cell_type": "markdown",
      "metadata": {
        "id": "view-in-github",
        "colab_type": "text"
      },
      "source": [
        "<a href=\"https://colab.research.google.com/github/ericakitano/Project-2/blob/main/Project_2_Part_1_(Core)_Erica_Kitano.ipynb\" target=\"_parent\"><img src=\"https://colab.research.google.com/assets/colab-badge.svg\" alt=\"Open In Colab\"/></a>"
      ]
    },
    {
      "cell_type": "markdown",
      "source": [
        "# Assignment:\n",
        "\n",
        "Create a notebook where you have uploaded and shown the .head() of each of your data sets. For each of the proposed datasets, include the following information in text cells:\n",
        "\n"
      ],
      "metadata": {
        "id": "Vmwxa5TO3Fes"
      }
    },
    {
      "cell_type": "code",
      "source": [
        "#Import Libraries\n",
        "import pandas as pd"
      ],
      "metadata": {
        "id": "kXdmPO7S3k7e"
      },
      "execution_count": 1,
      "outputs": []
    },
    {
      "cell_type": "code",
      "source": [
        "from google.colab import drive\n",
        "drive.mount('/content/drive')"
      ],
      "metadata": {
        "colab": {
          "base_uri": "https://localhost:8080/"
        },
        "id": "wZQa0eTL3axB",
        "outputId": "3feae45e-b431-4627-fdc1-0b067e36a9d0"
      },
      "execution_count": 2,
      "outputs": [
        {
          "output_type": "stream",
          "name": "stdout",
          "text": [
            "Mounted at /content/drive\n"
          ]
        }
      ]
    },
    {
      "cell_type": "markdown",
      "source": [
        "# First choice: dataset 1"
      ],
      "metadata": {
        "id": "56sKa0z2w-EH"
      }
    },
    {
      "cell_type": "code",
      "source": [
        "#Load Data\n",
        "filename1 = '/content/drive/MyDrive/Colab Notebooks/Raw Data Files/Project/Project2/healthcare-dataset-stroke-data.csv'\n",
        "df1 = pd.read_csv (filename1)\n",
        "df1.head()"
      ],
      "metadata": {
        "id": "u7nDtbji3m3u",
        "colab": {
          "base_uri": "https://localhost:8080/",
          "height": 305
        },
        "outputId": "1888d150-de31-48cb-a5c0-bea2169a09b2"
      },
      "execution_count": 3,
      "outputs": [
        {
          "output_type": "execute_result",
          "data": {
            "text/plain": [
              "      id  gender   age  hypertension  heart_disease ever_married  \\\n",
              "0   9046    Male  67.0             0              1          Yes   \n",
              "1  51676  Female  61.0             0              0          Yes   \n",
              "2  31112    Male  80.0             0              1          Yes   \n",
              "3  60182  Female  49.0             0              0          Yes   \n",
              "4   1665  Female  79.0             1              0          Yes   \n",
              "\n",
              "       work_type Residence_type  avg_glucose_level   bmi   smoking_status  \\\n",
              "0        Private          Urban             228.69  36.6  formerly smoked   \n",
              "1  Self-employed          Rural             202.21   NaN     never smoked   \n",
              "2        Private          Rural             105.92  32.5     never smoked   \n",
              "3        Private          Urban             171.23  34.4           smokes   \n",
              "4  Self-employed          Rural             174.12  24.0     never smoked   \n",
              "\n",
              "   stroke  \n",
              "0       1  \n",
              "1       1  \n",
              "2       1  \n",
              "3       1  \n",
              "4       1  "
            ],
            "text/html": [
              "\n",
              "  <div id=\"df-9f2dceca-5088-4206-bad7-7fbaf037c841\">\n",
              "    <div class=\"colab-df-container\">\n",
              "      <div>\n",
              "<style scoped>\n",
              "    .dataframe tbody tr th:only-of-type {\n",
              "        vertical-align: middle;\n",
              "    }\n",
              "\n",
              "    .dataframe tbody tr th {\n",
              "        vertical-align: top;\n",
              "    }\n",
              "\n",
              "    .dataframe thead th {\n",
              "        text-align: right;\n",
              "    }\n",
              "</style>\n",
              "<table border=\"1\" class=\"dataframe\">\n",
              "  <thead>\n",
              "    <tr style=\"text-align: right;\">\n",
              "      <th></th>\n",
              "      <th>id</th>\n",
              "      <th>gender</th>\n",
              "      <th>age</th>\n",
              "      <th>hypertension</th>\n",
              "      <th>heart_disease</th>\n",
              "      <th>ever_married</th>\n",
              "      <th>work_type</th>\n",
              "      <th>Residence_type</th>\n",
              "      <th>avg_glucose_level</th>\n",
              "      <th>bmi</th>\n",
              "      <th>smoking_status</th>\n",
              "      <th>stroke</th>\n",
              "    </tr>\n",
              "  </thead>\n",
              "  <tbody>\n",
              "    <tr>\n",
              "      <th>0</th>\n",
              "      <td>9046</td>\n",
              "      <td>Male</td>\n",
              "      <td>67.0</td>\n",
              "      <td>0</td>\n",
              "      <td>1</td>\n",
              "      <td>Yes</td>\n",
              "      <td>Private</td>\n",
              "      <td>Urban</td>\n",
              "      <td>228.69</td>\n",
              "      <td>36.6</td>\n",
              "      <td>formerly smoked</td>\n",
              "      <td>1</td>\n",
              "    </tr>\n",
              "    <tr>\n",
              "      <th>1</th>\n",
              "      <td>51676</td>\n",
              "      <td>Female</td>\n",
              "      <td>61.0</td>\n",
              "      <td>0</td>\n",
              "      <td>0</td>\n",
              "      <td>Yes</td>\n",
              "      <td>Self-employed</td>\n",
              "      <td>Rural</td>\n",
              "      <td>202.21</td>\n",
              "      <td>NaN</td>\n",
              "      <td>never smoked</td>\n",
              "      <td>1</td>\n",
              "    </tr>\n",
              "    <tr>\n",
              "      <th>2</th>\n",
              "      <td>31112</td>\n",
              "      <td>Male</td>\n",
              "      <td>80.0</td>\n",
              "      <td>0</td>\n",
              "      <td>1</td>\n",
              "      <td>Yes</td>\n",
              "      <td>Private</td>\n",
              "      <td>Rural</td>\n",
              "      <td>105.92</td>\n",
              "      <td>32.5</td>\n",
              "      <td>never smoked</td>\n",
              "      <td>1</td>\n",
              "    </tr>\n",
              "    <tr>\n",
              "      <th>3</th>\n",
              "      <td>60182</td>\n",
              "      <td>Female</td>\n",
              "      <td>49.0</td>\n",
              "      <td>0</td>\n",
              "      <td>0</td>\n",
              "      <td>Yes</td>\n",
              "      <td>Private</td>\n",
              "      <td>Urban</td>\n",
              "      <td>171.23</td>\n",
              "      <td>34.4</td>\n",
              "      <td>smokes</td>\n",
              "      <td>1</td>\n",
              "    </tr>\n",
              "    <tr>\n",
              "      <th>4</th>\n",
              "      <td>1665</td>\n",
              "      <td>Female</td>\n",
              "      <td>79.0</td>\n",
              "      <td>1</td>\n",
              "      <td>0</td>\n",
              "      <td>Yes</td>\n",
              "      <td>Self-employed</td>\n",
              "      <td>Rural</td>\n",
              "      <td>174.12</td>\n",
              "      <td>24.0</td>\n",
              "      <td>never smoked</td>\n",
              "      <td>1</td>\n",
              "    </tr>\n",
              "  </tbody>\n",
              "</table>\n",
              "</div>\n",
              "      <button class=\"colab-df-convert\" onclick=\"convertToInteractive('df-9f2dceca-5088-4206-bad7-7fbaf037c841')\"\n",
              "              title=\"Convert this dataframe to an interactive table.\"\n",
              "              style=\"display:none;\">\n",
              "        \n",
              "  <svg xmlns=\"http://www.w3.org/2000/svg\" height=\"24px\"viewBox=\"0 0 24 24\"\n",
              "       width=\"24px\">\n",
              "    <path d=\"M0 0h24v24H0V0z\" fill=\"none\"/>\n",
              "    <path d=\"M18.56 5.44l.94 2.06.94-2.06 2.06-.94-2.06-.94-.94-2.06-.94 2.06-2.06.94zm-11 1L8.5 8.5l.94-2.06 2.06-.94-2.06-.94L8.5 2.5l-.94 2.06-2.06.94zm10 10l.94 2.06.94-2.06 2.06-.94-2.06-.94-.94-2.06-.94 2.06-2.06.94z\"/><path d=\"M17.41 7.96l-1.37-1.37c-.4-.4-.92-.59-1.43-.59-.52 0-1.04.2-1.43.59L10.3 9.45l-7.72 7.72c-.78.78-.78 2.05 0 2.83L4 21.41c.39.39.9.59 1.41.59.51 0 1.02-.2 1.41-.59l7.78-7.78 2.81-2.81c.8-.78.8-2.07 0-2.86zM5.41 20L4 18.59l7.72-7.72 1.47 1.35L5.41 20z\"/>\n",
              "  </svg>\n",
              "      </button>\n",
              "      \n",
              "  <style>\n",
              "    .colab-df-container {\n",
              "      display:flex;\n",
              "      flex-wrap:wrap;\n",
              "      gap: 12px;\n",
              "    }\n",
              "\n",
              "    .colab-df-convert {\n",
              "      background-color: #E8F0FE;\n",
              "      border: none;\n",
              "      border-radius: 50%;\n",
              "      cursor: pointer;\n",
              "      display: none;\n",
              "      fill: #1967D2;\n",
              "      height: 32px;\n",
              "      padding: 0 0 0 0;\n",
              "      width: 32px;\n",
              "    }\n",
              "\n",
              "    .colab-df-convert:hover {\n",
              "      background-color: #E2EBFA;\n",
              "      box-shadow: 0px 1px 2px rgba(60, 64, 67, 0.3), 0px 1px 3px 1px rgba(60, 64, 67, 0.15);\n",
              "      fill: #174EA6;\n",
              "    }\n",
              "\n",
              "    [theme=dark] .colab-df-convert {\n",
              "      background-color: #3B4455;\n",
              "      fill: #D2E3FC;\n",
              "    }\n",
              "\n",
              "    [theme=dark] .colab-df-convert:hover {\n",
              "      background-color: #434B5C;\n",
              "      box-shadow: 0px 1px 3px 1px rgba(0, 0, 0, 0.15);\n",
              "      filter: drop-shadow(0px 1px 2px rgba(0, 0, 0, 0.3));\n",
              "      fill: #FFFFFF;\n",
              "    }\n",
              "  </style>\n",
              "\n",
              "      <script>\n",
              "        const buttonEl =\n",
              "          document.querySelector('#df-9f2dceca-5088-4206-bad7-7fbaf037c841 button.colab-df-convert');\n",
              "        buttonEl.style.display =\n",
              "          google.colab.kernel.accessAllowed ? 'block' : 'none';\n",
              "\n",
              "        async function convertToInteractive(key) {\n",
              "          const element = document.querySelector('#df-9f2dceca-5088-4206-bad7-7fbaf037c841');\n",
              "          const dataTable =\n",
              "            await google.colab.kernel.invokeFunction('convertToInteractive',\n",
              "                                                     [key], {});\n",
              "          if (!dataTable) return;\n",
              "\n",
              "          const docLinkHtml = 'Like what you see? Visit the ' +\n",
              "            '<a target=\"_blank\" href=https://colab.research.google.com/notebooks/data_table.ipynb>data table notebook</a>'\n",
              "            + ' to learn more about interactive tables.';\n",
              "          element.innerHTML = '';\n",
              "          dataTable['output_type'] = 'display_data';\n",
              "          await google.colab.output.renderOutput(dataTable, element);\n",
              "          const docLink = document.createElement('div');\n",
              "          docLink.innerHTML = docLinkHtml;\n",
              "          element.appendChild(docLink);\n",
              "        }\n",
              "      </script>\n",
              "    </div>\n",
              "  </div>\n",
              "  "
            ]
          },
          "metadata": {},
          "execution_count": 3
        }
      ]
    },
    {
      "cell_type": "code",
      "source": [
        "df1.shape"
      ],
      "metadata": {
        "id": "LZASYR9-3trY",
        "colab": {
          "base_uri": "https://localhost:8080/"
        },
        "outputId": "bc50320e-4731-4582-b214-8e7d3e9bf518"
      },
      "execution_count": 4,
      "outputs": [
        {
          "output_type": "execute_result",
          "data": {
            "text/plain": [
              "(5110, 12)"
            ]
          },
          "metadata": {},
          "execution_count": 4
        }
      ]
    },
    {
      "cell_type": "code",
      "source": [
        "df1.info()"
      ],
      "metadata": {
        "id": "hKP4bTmL3wMh",
        "colab": {
          "base_uri": "https://localhost:8080/"
        },
        "outputId": "a82de0ad-0a44-42ab-df06-b8a53e15da1f"
      },
      "execution_count": 5,
      "outputs": [
        {
          "output_type": "stream",
          "name": "stdout",
          "text": [
            "<class 'pandas.core.frame.DataFrame'>\n",
            "RangeIndex: 5110 entries, 0 to 5109\n",
            "Data columns (total 12 columns):\n",
            " #   Column             Non-Null Count  Dtype  \n",
            "---  ------             --------------  -----  \n",
            " 0   id                 5110 non-null   int64  \n",
            " 1   gender             5110 non-null   object \n",
            " 2   age                5110 non-null   float64\n",
            " 3   hypertension       5110 non-null   int64  \n",
            " 4   heart_disease      5110 non-null   int64  \n",
            " 5   ever_married       5110 non-null   object \n",
            " 6   work_type          5110 non-null   object \n",
            " 7   Residence_type     5110 non-null   object \n",
            " 8   avg_glucose_level  5110 non-null   float64\n",
            " 9   bmi                4909 non-null   float64\n",
            " 10  smoking_status     5110 non-null   object \n",
            " 11  stroke             5110 non-null   int64  \n",
            "dtypes: float64(3), int64(4), object(5)\n",
            "memory usage: 479.2+ KB\n"
          ]
        }
      ]
    },
    {
      "cell_type": "code",
      "source": [
        "df1['stroke'].value_counts()"
      ],
      "metadata": {
        "colab": {
          "base_uri": "https://localhost:8080/"
        },
        "id": "bfKpWtPnxcAz",
        "outputId": "0d1cadd4-511b-4056-df7c-b9231c32c43f"
      },
      "execution_count": 9,
      "outputs": [
        {
          "output_type": "execute_result",
          "data": {
            "text/plain": [
              "0    4861\n",
              "1     249\n",
              "Name: stroke, dtype: int64"
            ]
          },
          "metadata": {},
          "execution_count": 9
        }
      ]
    },
    {
      "cell_type": "code",
      "source": [
        "df1.isna().sum()"
      ],
      "metadata": {
        "colab": {
          "base_uri": "https://localhost:8080/"
        },
        "id": "_TuTSpkQybwQ",
        "outputId": "04d23c55-d5f2-4bb2-81ea-23605ef7b7a0"
      },
      "execution_count": 11,
      "outputs": [
        {
          "output_type": "execute_result",
          "data": {
            "text/plain": [
              "id                     0\n",
              "gender                 0\n",
              "age                    0\n",
              "hypertension           0\n",
              "heart_disease          0\n",
              "ever_married           0\n",
              "work_type              0\n",
              "Residence_type         0\n",
              "avg_glucose_level      0\n",
              "bmi                  201\n",
              "smoking_status         0\n",
              "stroke                 0\n",
              "dtype: int64"
            ]
          },
          "metadata": {},
          "execution_count": 11
        }
      ]
    },
    {
      "cell_type": "markdown",
      "source": [
        "## First choice: dataset 1\n",
        "1. Source of data: [Stroke Prediction Dataset](https://www.kaggle.com/datasets/fedesoriano/stroke-prediction-dataset)\n",
        "\n",
        "2. Brief description of data: \n",
        "\n",
        "   > This dataset is used to predict whether a patient is likely to get stroke based on the input parameters like gender, age, various diseases, and smoking status. Each row in the data provides relavant information about the patient.\n",
        "   > \n",
        "   > Source: https://www.kaggle.com/datasets/fedesoriano/stroke-prediction-dataset\n",
        "\n",
        "3. What is the target?\n",
        "\n",
        "   > column: 'stroke'\n",
        "\n",
        "4. What does one row represent? (A person?  A business?  An event? A product?)\n",
        "\n",
        "   > Patient (person)\n",
        "\n",
        "5. Is this a classification or regression problem?\n",
        "\n",
        "   > Classification\n",
        "\n",
        "6. How many features does the data have?\n",
        "\n",
        "   > Currently there are 11 other columns besides the target column. \n",
        "   >\n",
        "   > However, after dropping unnnecessary column (e.g. 'id'), the number of feature columns will reduce to 10. \n",
        "   >\n",
        "   > There are 10 features.\n",
        "\n",
        "7. How many rows are in the dataset?\n",
        "\n",
        "   > 5110\n",
        "\n",
        "8. What, if any, challenges do you foresee in cleaning, exploring, or modeling this dataset?\n",
        "   > 'bmi' column is missing 201 values.\n",
        "\n"
      ],
      "metadata": {
        "id": "zBMAucG72fGd"
      }
    },
    {
      "cell_type": "markdown",
      "source": [
        "***\n"
      ],
      "metadata": {
        "id": "jZno_U8bw6n-"
      }
    },
    {
      "cell_type": "markdown",
      "source": [
        "# Second choice: dataset 2"
      ],
      "metadata": {
        "id": "k5WGxkwXxD4d"
      }
    },
    {
      "cell_type": "code",
      "source": [
        "#Load Data\n",
        "filename2 = '/content/drive/MyDrive/Colab Notebooks/Raw Data Files/Project/Project2/Metabolic_Syndrome.csv'\n",
        "df2 = pd.read_csv (filename2)\n",
        "df2.head()"
      ],
      "metadata": {
        "id": "9Yh9ZkS635MW",
        "colab": {
          "base_uri": "https://localhost:8080/",
          "height": 270
        },
        "outputId": "40937889-709d-437c-c09e-24dddc427dca"
      },
      "execution_count": 6,
      "outputs": [
        {
          "output_type": "execute_result",
          "data": {
            "text/plain": [
              "    seqn  Age     Sex  Marital  Income   Race  WaistCirc   BMI  Albuminuria  \\\n",
              "0  62161   22    Male   Single  8200.0  White       81.0  23.3            0   \n",
              "1  62164   44  Female  Married  4500.0  White       80.1  23.2            0   \n",
              "2  62169   21    Male   Single   800.0  Asian       69.6  20.1            0   \n",
              "3  62172   43  Female   Single  2000.0  Black      120.4  33.3            0   \n",
              "4  62177   51    Male  Married     NaN  Asian       81.1  20.1            0   \n",
              "\n",
              "   UrAlbCr  UricAcid  BloodGlucose  HDL  Triglycerides MetabolicSyndrome  \n",
              "0     3.88       4.9            92   41             84         No MetSyn  \n",
              "1     8.55       4.5            82   28             56         No MetSyn  \n",
              "2     5.07       5.4           107   43             78         No MetSyn  \n",
              "3     5.22       5.0           104   73            141         No MetSyn  \n",
              "4     8.13       5.0            95   43            126         No MetSyn  "
            ],
            "text/html": [
              "\n",
              "  <div id=\"df-e245b122-b88b-4226-89f8-ca3ad4a48f55\">\n",
              "    <div class=\"colab-df-container\">\n",
              "      <div>\n",
              "<style scoped>\n",
              "    .dataframe tbody tr th:only-of-type {\n",
              "        vertical-align: middle;\n",
              "    }\n",
              "\n",
              "    .dataframe tbody tr th {\n",
              "        vertical-align: top;\n",
              "    }\n",
              "\n",
              "    .dataframe thead th {\n",
              "        text-align: right;\n",
              "    }\n",
              "</style>\n",
              "<table border=\"1\" class=\"dataframe\">\n",
              "  <thead>\n",
              "    <tr style=\"text-align: right;\">\n",
              "      <th></th>\n",
              "      <th>seqn</th>\n",
              "      <th>Age</th>\n",
              "      <th>Sex</th>\n",
              "      <th>Marital</th>\n",
              "      <th>Income</th>\n",
              "      <th>Race</th>\n",
              "      <th>WaistCirc</th>\n",
              "      <th>BMI</th>\n",
              "      <th>Albuminuria</th>\n",
              "      <th>UrAlbCr</th>\n",
              "      <th>UricAcid</th>\n",
              "      <th>BloodGlucose</th>\n",
              "      <th>HDL</th>\n",
              "      <th>Triglycerides</th>\n",
              "      <th>MetabolicSyndrome</th>\n",
              "    </tr>\n",
              "  </thead>\n",
              "  <tbody>\n",
              "    <tr>\n",
              "      <th>0</th>\n",
              "      <td>62161</td>\n",
              "      <td>22</td>\n",
              "      <td>Male</td>\n",
              "      <td>Single</td>\n",
              "      <td>8200.0</td>\n",
              "      <td>White</td>\n",
              "      <td>81.0</td>\n",
              "      <td>23.3</td>\n",
              "      <td>0</td>\n",
              "      <td>3.88</td>\n",
              "      <td>4.9</td>\n",
              "      <td>92</td>\n",
              "      <td>41</td>\n",
              "      <td>84</td>\n",
              "      <td>No MetSyn</td>\n",
              "    </tr>\n",
              "    <tr>\n",
              "      <th>1</th>\n",
              "      <td>62164</td>\n",
              "      <td>44</td>\n",
              "      <td>Female</td>\n",
              "      <td>Married</td>\n",
              "      <td>4500.0</td>\n",
              "      <td>White</td>\n",
              "      <td>80.1</td>\n",
              "      <td>23.2</td>\n",
              "      <td>0</td>\n",
              "      <td>8.55</td>\n",
              "      <td>4.5</td>\n",
              "      <td>82</td>\n",
              "      <td>28</td>\n",
              "      <td>56</td>\n",
              "      <td>No MetSyn</td>\n",
              "    </tr>\n",
              "    <tr>\n",
              "      <th>2</th>\n",
              "      <td>62169</td>\n",
              "      <td>21</td>\n",
              "      <td>Male</td>\n",
              "      <td>Single</td>\n",
              "      <td>800.0</td>\n",
              "      <td>Asian</td>\n",
              "      <td>69.6</td>\n",
              "      <td>20.1</td>\n",
              "      <td>0</td>\n",
              "      <td>5.07</td>\n",
              "      <td>5.4</td>\n",
              "      <td>107</td>\n",
              "      <td>43</td>\n",
              "      <td>78</td>\n",
              "      <td>No MetSyn</td>\n",
              "    </tr>\n",
              "    <tr>\n",
              "      <th>3</th>\n",
              "      <td>62172</td>\n",
              "      <td>43</td>\n",
              "      <td>Female</td>\n",
              "      <td>Single</td>\n",
              "      <td>2000.0</td>\n",
              "      <td>Black</td>\n",
              "      <td>120.4</td>\n",
              "      <td>33.3</td>\n",
              "      <td>0</td>\n",
              "      <td>5.22</td>\n",
              "      <td>5.0</td>\n",
              "      <td>104</td>\n",
              "      <td>73</td>\n",
              "      <td>141</td>\n",
              "      <td>No MetSyn</td>\n",
              "    </tr>\n",
              "    <tr>\n",
              "      <th>4</th>\n",
              "      <td>62177</td>\n",
              "      <td>51</td>\n",
              "      <td>Male</td>\n",
              "      <td>Married</td>\n",
              "      <td>NaN</td>\n",
              "      <td>Asian</td>\n",
              "      <td>81.1</td>\n",
              "      <td>20.1</td>\n",
              "      <td>0</td>\n",
              "      <td>8.13</td>\n",
              "      <td>5.0</td>\n",
              "      <td>95</td>\n",
              "      <td>43</td>\n",
              "      <td>126</td>\n",
              "      <td>No MetSyn</td>\n",
              "    </tr>\n",
              "  </tbody>\n",
              "</table>\n",
              "</div>\n",
              "      <button class=\"colab-df-convert\" onclick=\"convertToInteractive('df-e245b122-b88b-4226-89f8-ca3ad4a48f55')\"\n",
              "              title=\"Convert this dataframe to an interactive table.\"\n",
              "              style=\"display:none;\">\n",
              "        \n",
              "  <svg xmlns=\"http://www.w3.org/2000/svg\" height=\"24px\"viewBox=\"0 0 24 24\"\n",
              "       width=\"24px\">\n",
              "    <path d=\"M0 0h24v24H0V0z\" fill=\"none\"/>\n",
              "    <path d=\"M18.56 5.44l.94 2.06.94-2.06 2.06-.94-2.06-.94-.94-2.06-.94 2.06-2.06.94zm-11 1L8.5 8.5l.94-2.06 2.06-.94-2.06-.94L8.5 2.5l-.94 2.06-2.06.94zm10 10l.94 2.06.94-2.06 2.06-.94-2.06-.94-.94-2.06-.94 2.06-2.06.94z\"/><path d=\"M17.41 7.96l-1.37-1.37c-.4-.4-.92-.59-1.43-.59-.52 0-1.04.2-1.43.59L10.3 9.45l-7.72 7.72c-.78.78-.78 2.05 0 2.83L4 21.41c.39.39.9.59 1.41.59.51 0 1.02-.2 1.41-.59l7.78-7.78 2.81-2.81c.8-.78.8-2.07 0-2.86zM5.41 20L4 18.59l7.72-7.72 1.47 1.35L5.41 20z\"/>\n",
              "  </svg>\n",
              "      </button>\n",
              "      \n",
              "  <style>\n",
              "    .colab-df-container {\n",
              "      display:flex;\n",
              "      flex-wrap:wrap;\n",
              "      gap: 12px;\n",
              "    }\n",
              "\n",
              "    .colab-df-convert {\n",
              "      background-color: #E8F0FE;\n",
              "      border: none;\n",
              "      border-radius: 50%;\n",
              "      cursor: pointer;\n",
              "      display: none;\n",
              "      fill: #1967D2;\n",
              "      height: 32px;\n",
              "      padding: 0 0 0 0;\n",
              "      width: 32px;\n",
              "    }\n",
              "\n",
              "    .colab-df-convert:hover {\n",
              "      background-color: #E2EBFA;\n",
              "      box-shadow: 0px 1px 2px rgba(60, 64, 67, 0.3), 0px 1px 3px 1px rgba(60, 64, 67, 0.15);\n",
              "      fill: #174EA6;\n",
              "    }\n",
              "\n",
              "    [theme=dark] .colab-df-convert {\n",
              "      background-color: #3B4455;\n",
              "      fill: #D2E3FC;\n",
              "    }\n",
              "\n",
              "    [theme=dark] .colab-df-convert:hover {\n",
              "      background-color: #434B5C;\n",
              "      box-shadow: 0px 1px 3px 1px rgba(0, 0, 0, 0.15);\n",
              "      filter: drop-shadow(0px 1px 2px rgba(0, 0, 0, 0.3));\n",
              "      fill: #FFFFFF;\n",
              "    }\n",
              "  </style>\n",
              "\n",
              "      <script>\n",
              "        const buttonEl =\n",
              "          document.querySelector('#df-e245b122-b88b-4226-89f8-ca3ad4a48f55 button.colab-df-convert');\n",
              "        buttonEl.style.display =\n",
              "          google.colab.kernel.accessAllowed ? 'block' : 'none';\n",
              "\n",
              "        async function convertToInteractive(key) {\n",
              "          const element = document.querySelector('#df-e245b122-b88b-4226-89f8-ca3ad4a48f55');\n",
              "          const dataTable =\n",
              "            await google.colab.kernel.invokeFunction('convertToInteractive',\n",
              "                                                     [key], {});\n",
              "          if (!dataTable) return;\n",
              "\n",
              "          const docLinkHtml = 'Like what you see? Visit the ' +\n",
              "            '<a target=\"_blank\" href=https://colab.research.google.com/notebooks/data_table.ipynb>data table notebook</a>'\n",
              "            + ' to learn more about interactive tables.';\n",
              "          element.innerHTML = '';\n",
              "          dataTable['output_type'] = 'display_data';\n",
              "          await google.colab.output.renderOutput(dataTable, element);\n",
              "          const docLink = document.createElement('div');\n",
              "          docLink.innerHTML = docLinkHtml;\n",
              "          element.appendChild(docLink);\n",
              "        }\n",
              "      </script>\n",
              "    </div>\n",
              "  </div>\n",
              "  "
            ]
          },
          "metadata": {},
          "execution_count": 6
        }
      ]
    },
    {
      "cell_type": "code",
      "source": [
        "df2.shape"
      ],
      "metadata": {
        "colab": {
          "base_uri": "https://localhost:8080/"
        },
        "id": "s7kZep5OxJD9",
        "outputId": "c45a56d8-f287-42b1-8d3e-6a074e8a8bb6"
      },
      "execution_count": 7,
      "outputs": [
        {
          "output_type": "execute_result",
          "data": {
            "text/plain": [
              "(2401, 15)"
            ]
          },
          "metadata": {},
          "execution_count": 7
        }
      ]
    },
    {
      "cell_type": "code",
      "source": [
        "df2.info()"
      ],
      "metadata": {
        "colab": {
          "base_uri": "https://localhost:8080/"
        },
        "id": "8jfJYcUixLz5",
        "outputId": "5b07ac1a-4f71-4dab-b2c0-79c1be23c372"
      },
      "execution_count": 8,
      "outputs": [
        {
          "output_type": "stream",
          "name": "stdout",
          "text": [
            "<class 'pandas.core.frame.DataFrame'>\n",
            "RangeIndex: 2401 entries, 0 to 2400\n",
            "Data columns (total 15 columns):\n",
            " #   Column             Non-Null Count  Dtype  \n",
            "---  ------             --------------  -----  \n",
            " 0   seqn               2401 non-null   int64  \n",
            " 1   Age                2401 non-null   int64  \n",
            " 2   Sex                2401 non-null   object \n",
            " 3   Marital            2193 non-null   object \n",
            " 4   Income             2284 non-null   float64\n",
            " 5   Race               2401 non-null   object \n",
            " 6   WaistCirc          2316 non-null   float64\n",
            " 7   BMI                2375 non-null   float64\n",
            " 8   Albuminuria        2401 non-null   int64  \n",
            " 9   UrAlbCr            2401 non-null   float64\n",
            " 10  UricAcid           2401 non-null   float64\n",
            " 11  BloodGlucose       2401 non-null   int64  \n",
            " 12  HDL                2401 non-null   int64  \n",
            " 13  Triglycerides      2401 non-null   int64  \n",
            " 14  MetabolicSyndrome  2401 non-null   object \n",
            "dtypes: float64(5), int64(6), object(4)\n",
            "memory usage: 281.5+ KB\n"
          ]
        }
      ]
    },
    {
      "cell_type": "code",
      "source": [
        "df2['MetabolicSyndrome'].value_counts()"
      ],
      "metadata": {
        "colab": {
          "base_uri": "https://localhost:8080/"
        },
        "id": "OiYqptbjzXcU",
        "outputId": "b084bd24-02f3-4249-bf0e-5c9c59fc0f3e"
      },
      "execution_count": 13,
      "outputs": [
        {
          "output_type": "execute_result",
          "data": {
            "text/plain": [
              "No MetSyn    1579\n",
              "MetSyn        822\n",
              "Name: MetabolicSyndrome, dtype: int64"
            ]
          },
          "metadata": {},
          "execution_count": 13
        }
      ]
    },
    {
      "cell_type": "code",
      "source": [
        "df2.isna().sum()"
      ],
      "metadata": {
        "colab": {
          "base_uri": "https://localhost:8080/"
        },
        "id": "2zzKldMazrHL",
        "outputId": "f1790e47-4335-451d-aed8-91766deac407"
      },
      "execution_count": 14,
      "outputs": [
        {
          "output_type": "execute_result",
          "data": {
            "text/plain": [
              "seqn                   0\n",
              "Age                    0\n",
              "Sex                    0\n",
              "Marital              208\n",
              "Income               117\n",
              "Race                   0\n",
              "WaistCirc             85\n",
              "BMI                   26\n",
              "Albuminuria            0\n",
              "UrAlbCr                0\n",
              "UricAcid               0\n",
              "BloodGlucose           0\n",
              "HDL                    0\n",
              "Triglycerides          0\n",
              "MetabolicSyndrome      0\n",
              "dtype: int64"
            ]
          },
          "metadata": {},
          "execution_count": 14
        }
      ]
    },
    {
      "cell_type": "markdown",
      "source": [
        "## Second choice: dataset 2\n",
        "1. Source of data: [Metabolic Syndrome Prediction](https://data.world/informatics-edu/metabolic-syndrome-prediction)\n",
        "\n",
        "2. Brief description of data\n",
        "\n",
        "   > To predict metabolic syndrome, yes or not based on common risk factors\n",
        "   >\n",
        "   > Source: https://data.world/informatics-edu/metabolic-syndrome-prediction\n",
        "   \n",
        "3. What is the target?\n",
        "\n",
        "   > MetablicSyndrome\n",
        "\n",
        "4. What does one row represent? (A person?  A business?  An event? A product?)\n",
        "\n",
        "   > A person\n",
        "\n",
        "5. Is this a classification or regression problem?\n",
        "\n",
        "   > Classification\n",
        "\n",
        "6. How many features does the data have?\n",
        "\n",
        "   > 14\n",
        "\n",
        "7. How many rows are in the dataset?\n",
        "\n",
        "   > 2401\n",
        "\n",
        "8. What, if any, challenges do you foresee in cleaning, exploring, or modeling this dataset?\n",
        "\n",
        "  > There are missing values in 4 columns: Marital, Income, WaistCirc, BMI."
      ],
      "metadata": {
        "id": "GgZAvAY02h81"
      }
    }
  ]
}